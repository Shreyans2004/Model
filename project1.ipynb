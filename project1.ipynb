{
 "cells": [
  {
   "cell_type": "markdown",
   "id": "e53f3c16",
   "metadata": {},
   "source": [
    "# IMPORTING ESSENTIAL LIBRARIES"
   ]
  },
  {
   "cell_type": "code",
   "execution_count": 1,
   "id": "dbcbd7b9",
   "metadata": {},
   "outputs": [],
   "source": [
    "import pandas as pd\n",
    "import matplotlib.pyplot as plt \n",
    "import seaborn as sns \n",
    "plt.style.use('dark_background')\n",
    "import warnings\n",
    "warnings.filterwarnings('ignore')"
   ]
  },
  {
   "cell_type": "markdown",
   "id": "c6984beb",
   "metadata": {},
   "source": [
    "# Reading the cricket dataset\n"
   ]
  },
  {
   "cell_type": "code",
   "execution_count": 2,
   "id": "c400e150",
   "metadata": {},
   "outputs": [
    {
     "data": {
      "text/html": [
       "<div>\n",
       "<style scoped>\n",
       "    .dataframe tbody tr th:only-of-type {\n",
       "        vertical-align: middle;\n",
       "    }\n",
       "\n",
       "    .dataframe tbody tr th {\n",
       "        vertical-align: top;\n",
       "    }\n",
       "\n",
       "    .dataframe thead th {\n",
       "        text-align: right;\n",
       "    }\n",
       "</style>\n",
       "<table border=\"1\" class=\"dataframe\">\n",
       "  <thead>\n",
       "    <tr style=\"text-align: right;\">\n",
       "      <th></th>\n",
       "      <th>POS</th>\n",
       "      <th>PLAYER</th>\n",
       "      <th>Mat</th>\n",
       "      <th>Inns</th>\n",
       "      <th>NO</th>\n",
       "      <th>Runs</th>\n",
       "      <th>HS</th>\n",
       "      <th>Avg</th>\n",
       "      <th>BF</th>\n",
       "      <th>SR</th>\n",
       "      <th>100</th>\n",
       "      <th>50</th>\n",
       "      <th>4s</th>\n",
       "      <th>6s</th>\n",
       "    </tr>\n",
       "  </thead>\n",
       "  <tbody>\n",
       "    <tr>\n",
       "      <th>0</th>\n",
       "      <td>1</td>\n",
       "      <td>ViratKohli</td>\n",
       "      <td>177</td>\n",
       "      <td>169</td>\n",
       "      <td>26</td>\n",
       "      <td>5412</td>\n",
       "      <td>113</td>\n",
       "      <td>37.84</td>\n",
       "      <td>4,112</td>\n",
       "      <td>131.61</td>\n",
       "      <td>5</td>\n",
       "      <td>36</td>\n",
       "      <td>480</td>\n",
       "      <td>190</td>\n",
       "    </tr>\n",
       "    <tr>\n",
       "      <th>1</th>\n",
       "      <td>2</td>\n",
       "      <td>Suresh Raina</td>\n",
       "      <td>193</td>\n",
       "      <td>189</td>\n",
       "      <td>28</td>\n",
       "      <td>5368</td>\n",
       "      <td>100*</td>\n",
       "      <td>33.34</td>\n",
       "      <td>3,914</td>\n",
       "      <td>137.14</td>\n",
       "      <td>1</td>\n",
       "      <td>38</td>\n",
       "      <td>493</td>\n",
       "      <td>194</td>\n",
       "    </tr>\n",
       "    <tr>\n",
       "      <th>2</th>\n",
       "      <td>3</td>\n",
       "      <td>Rohit Sharma</td>\n",
       "      <td>188</td>\n",
       "      <td>183</td>\n",
       "      <td>28</td>\n",
       "      <td>4898</td>\n",
       "      <td>109*</td>\n",
       "      <td>31.60</td>\n",
       "      <td>3,744</td>\n",
       "      <td>130.82</td>\n",
       "      <td>1</td>\n",
       "      <td>36</td>\n",
       "      <td>431</td>\n",
       "      <td>194</td>\n",
       "    </tr>\n",
       "    <tr>\n",
       "      <th>3</th>\n",
       "      <td>4</td>\n",
       "      <td>David Warner</td>\n",
       "      <td>126</td>\n",
       "      <td>126</td>\n",
       "      <td>17</td>\n",
       "      <td>4706</td>\n",
       "      <td>126</td>\n",
       "      <td>43.17</td>\n",
       "      <td>3,305</td>\n",
       "      <td>142.39</td>\n",
       "      <td>4</td>\n",
       "      <td>44</td>\n",
       "      <td>458</td>\n",
       "      <td>181</td>\n",
       "    </tr>\n",
       "    <tr>\n",
       "      <th>4</th>\n",
       "      <td>5</td>\n",
       "      <td>Shikhar Dhawan</td>\n",
       "      <td>159</td>\n",
       "      <td>158</td>\n",
       "      <td>21</td>\n",
       "      <td>4579</td>\n",
       "      <td>97*</td>\n",
       "      <td>33.42</td>\n",
       "      <td>3,669</td>\n",
       "      <td>124.80</td>\n",
       "      <td>0</td>\n",
       "      <td>37</td>\n",
       "      <td>524</td>\n",
       "      <td>96</td>\n",
       "    </tr>\n",
       "  </tbody>\n",
       "</table>\n",
       "</div>"
      ],
      "text/plain": [
       "   POS          PLAYER  Mat  Inns  NO  Runs    HS    Avg     BF      SR  100  \\\n",
       "0    1      ViratKohli  177   169  26  5412   113  37.84  4,112  131.61    5   \n",
       "1    2    Suresh Raina  193   189  28  5368  100*  33.34  3,914  137.14    1   \n",
       "2    3    Rohit Sharma  188   183  28  4898  109*  31.60  3,744  130.82    1   \n",
       "3    4    David Warner  126   126  17  4706   126  43.17  3,305  142.39    4   \n",
       "4    5  Shikhar Dhawan  159   158  21  4579   97*  33.42  3,669  124.80    0   \n",
       "\n",
       "   50   4s   6s  \n",
       "0  36  480  190  \n",
       "1  38  493  194  \n",
       "2  36  431  194  \n",
       "3  44  458  181  \n",
       "4  37  524   96  "
      ]
     },
     "execution_count": 2,
     "metadata": {},
     "output_type": "execute_result"
    }
   ],
   "source": [
    "a=pd.read_csv(\"Top_100_batsman.csv\")\n",
    "a.head()"
   ]
  },
  {
   "cell_type": "code",
   "execution_count": 3,
   "id": "8e0229c5",
   "metadata": {},
   "outputs": [
    {
     "data": {
      "text/plain": [
       "(100, 14)"
      ]
     },
     "execution_count": 3,
     "metadata": {},
     "output_type": "execute_result"
    }
   ],
   "source": [
    "a.shape"
   ]
  },
  {
   "cell_type": "code",
   "execution_count": 4,
   "id": "0d6966c3",
   "metadata": {},
   "outputs": [
    {
     "data": {
      "text/plain": [
       "Index(['POS', 'PLAYER', 'Mat', 'Inns', 'NO', 'Runs', 'HS', 'Avg', 'BF', 'SR',\n",
       "       '100', '50', '4s', '6s'],\n",
       "      dtype='object')"
      ]
     },
     "execution_count": 4,
     "metadata": {},
     "output_type": "execute_result"
    }
   ],
   "source": [
    "a.columns"
   ]
  },
  {
   "cell_type": "code",
   "execution_count": 5,
   "id": "62d6e35d",
   "metadata": {},
   "outputs": [
    {
     "data": {
      "text/html": [
       "<div>\n",
       "<style scoped>\n",
       "    .dataframe tbody tr th:only-of-type {\n",
       "        vertical-align: middle;\n",
       "    }\n",
       "\n",
       "    .dataframe tbody tr th {\n",
       "        vertical-align: top;\n",
       "    }\n",
       "\n",
       "    .dataframe thead th {\n",
       "        text-align: right;\n",
       "    }\n",
       "</style>\n",
       "<table border=\"1\" class=\"dataframe\">\n",
       "  <thead>\n",
       "    <tr style=\"text-align: right;\">\n",
       "      <th></th>\n",
       "      <th>PLAYER</th>\n",
       "      <th>Mat</th>\n",
       "      <th>Inns</th>\n",
       "      <th>Runs</th>\n",
       "      <th>HS</th>\n",
       "      <th>BF</th>\n",
       "      <th>SR</th>\n",
       "      <th>100</th>\n",
       "      <th>50</th>\n",
       "      <th>4s</th>\n",
       "      <th>6s</th>\n",
       "    </tr>\n",
       "  </thead>\n",
       "  <tbody>\n",
       "    <tr>\n",
       "      <th>0</th>\n",
       "      <td>ViratKohli</td>\n",
       "      <td>177</td>\n",
       "      <td>169</td>\n",
       "      <td>5412</td>\n",
       "      <td>113</td>\n",
       "      <td>4,112</td>\n",
       "      <td>131.61</td>\n",
       "      <td>5</td>\n",
       "      <td>36</td>\n",
       "      <td>480</td>\n",
       "      <td>190</td>\n",
       "    </tr>\n",
       "    <tr>\n",
       "      <th>1</th>\n",
       "      <td>Suresh Raina</td>\n",
       "      <td>193</td>\n",
       "      <td>189</td>\n",
       "      <td>5368</td>\n",
       "      <td>100*</td>\n",
       "      <td>3,914</td>\n",
       "      <td>137.14</td>\n",
       "      <td>1</td>\n",
       "      <td>38</td>\n",
       "      <td>493</td>\n",
       "      <td>194</td>\n",
       "    </tr>\n",
       "    <tr>\n",
       "      <th>2</th>\n",
       "      <td>Rohit Sharma</td>\n",
       "      <td>188</td>\n",
       "      <td>183</td>\n",
       "      <td>4898</td>\n",
       "      <td>109*</td>\n",
       "      <td>3,744</td>\n",
       "      <td>130.82</td>\n",
       "      <td>1</td>\n",
       "      <td>36</td>\n",
       "      <td>431</td>\n",
       "      <td>194</td>\n",
       "    </tr>\n",
       "    <tr>\n",
       "      <th>3</th>\n",
       "      <td>David Warner</td>\n",
       "      <td>126</td>\n",
       "      <td>126</td>\n",
       "      <td>4706</td>\n",
       "      <td>126</td>\n",
       "      <td>3,305</td>\n",
       "      <td>142.39</td>\n",
       "      <td>4</td>\n",
       "      <td>44</td>\n",
       "      <td>458</td>\n",
       "      <td>181</td>\n",
       "    </tr>\n",
       "    <tr>\n",
       "      <th>4</th>\n",
       "      <td>Shikhar Dhawan</td>\n",
       "      <td>159</td>\n",
       "      <td>158</td>\n",
       "      <td>4579</td>\n",
       "      <td>97*</td>\n",
       "      <td>3,669</td>\n",
       "      <td>124.80</td>\n",
       "      <td>0</td>\n",
       "      <td>37</td>\n",
       "      <td>524</td>\n",
       "      <td>96</td>\n",
       "    </tr>\n",
       "    <tr>\n",
       "      <th>...</th>\n",
       "      <td>...</td>\n",
       "      <td>...</td>\n",
       "      <td>...</td>\n",
       "      <td>...</td>\n",
       "      <td>...</td>\n",
       "      <td>...</td>\n",
       "      <td>...</td>\n",
       "      <td>...</td>\n",
       "      <td>...</td>\n",
       "      <td>...</td>\n",
       "      <td>...</td>\n",
       "    </tr>\n",
       "    <tr>\n",
       "      <th>95</th>\n",
       "      <td>Piyush Chawla</td>\n",
       "      <td>157</td>\n",
       "      <td>81</td>\n",
       "      <td>584</td>\n",
       "      <td>24*</td>\n",
       "      <td>524</td>\n",
       "      <td>111.45</td>\n",
       "      <td>0</td>\n",
       "      <td>0</td>\n",
       "      <td>54</td>\n",
       "      <td>18</td>\n",
       "    </tr>\n",
       "    <tr>\n",
       "      <th>96</th>\n",
       "      <td>Hashim Amla</td>\n",
       "      <td>16</td>\n",
       "      <td>16</td>\n",
       "      <td>577</td>\n",
       "      <td>104*</td>\n",
       "      <td>407</td>\n",
       "      <td>141.76</td>\n",
       "      <td>2</td>\n",
       "      <td>3</td>\n",
       "      <td>60</td>\n",
       "      <td>21</td>\n",
       "    </tr>\n",
       "    <tr>\n",
       "      <th>97</th>\n",
       "      <td>Vijay Shankar</td>\n",
       "      <td>33</td>\n",
       "      <td>29</td>\n",
       "      <td>557</td>\n",
       "      <td>63*</td>\n",
       "      <td>416</td>\n",
       "      <td>133.89</td>\n",
       "      <td>0</td>\n",
       "      <td>2</td>\n",
       "      <td>34</td>\n",
       "      <td>24</td>\n",
       "    </tr>\n",
       "    <tr>\n",
       "      <th>98</th>\n",
       "      <td>Corey Anderson</td>\n",
       "      <td>30</td>\n",
       "      <td>29</td>\n",
       "      <td>538</td>\n",
       "      <td>95*</td>\n",
       "      <td>423</td>\n",
       "      <td>127.18</td>\n",
       "      <td>0</td>\n",
       "      <td>3</td>\n",
       "      <td>40</td>\n",
       "      <td>31</td>\n",
       "    </tr>\n",
       "    <tr>\n",
       "      <th>99</th>\n",
       "      <td>Ravi Bopara</td>\n",
       "      <td>24</td>\n",
       "      <td>22</td>\n",
       "      <td>531</td>\n",
       "      <td>84</td>\n",
       "      <td>453</td>\n",
       "      <td>117.21</td>\n",
       "      <td>0</td>\n",
       "      <td>3</td>\n",
       "      <td>39</td>\n",
       "      <td>16</td>\n",
       "    </tr>\n",
       "  </tbody>\n",
       "</table>\n",
       "<p>100 rows × 11 columns</p>\n",
       "</div>"
      ],
      "text/plain": [
       "            PLAYER  Mat  Inns  Runs    HS     BF      SR  100  50   4s   6s\n",
       "0       ViratKohli  177   169  5412   113  4,112  131.61    5  36  480  190\n",
       "1     Suresh Raina  193   189  5368  100*  3,914  137.14    1  38  493  194\n",
       "2     Rohit Sharma  188   183  4898  109*  3,744  130.82    1  36  431  194\n",
       "3     David Warner  126   126  4706   126  3,305  142.39    4  44  458  181\n",
       "4   Shikhar Dhawan  159   158  4579   97*  3,669  124.80    0  37  524   96\n",
       "..             ...  ...   ...   ...   ...    ...     ...  ...  ..  ...  ...\n",
       "95   Piyush Chawla  157    81   584   24*    524  111.45    0   0   54   18\n",
       "96     Hashim Amla   16    16   577  104*    407  141.76    2   3   60   21\n",
       "97   Vijay Shankar   33    29   557   63*    416  133.89    0   2   34   24\n",
       "98  Corey Anderson   30    29   538   95*    423  127.18    0   3   40   31\n",
       "99     Ravi Bopara   24    22   531    84    453  117.21    0   3   39   16\n",
       "\n",
       "[100 rows x 11 columns]"
      ]
     },
     "execution_count": 5,
     "metadata": {},
     "output_type": "execute_result"
    }
   ],
   "source": [
    "a=a.drop(['POS','NO','Avg'],axis=\"columns\")\n",
    "a"
   ]
  },
  {
   "cell_type": "code",
   "execution_count": 6,
   "id": "33acd899",
   "metadata": {},
   "outputs": [],
   "source": [
    "a['Matches']=a['Mat']\n",
    "a.rename(columns={'BF':'Balls_Faced','PLAYER':'Player'},inplace=True)"
   ]
  },
  {
   "cell_type": "markdown",
   "id": "05434619",
   "metadata": {},
   "source": [
    "# Checking null values in the dataset"
   ]
  },
  {
   "cell_type": "code",
   "execution_count": 29,
   "id": "30d1a551",
   "metadata": {
    "scrolled": true
   },
   "outputs": [
    {
     "data": {
      "image/png": "[encoded data removed]",
      "text/plain": [
       "<Figure size 640x480 with 1 Axes>"
      ]
     },
     "metadata": {},
     "output_type": "display_data"
    }
   ],
   "source": [
    "sns.heatmap(a.isnull(),cmap='viridis',cbar=False,yticklabels=False)\n",
    "plt.show()"
   ]
  },
  {
   "cell_type": "markdown",
   "id": "6fd91db1",
   "metadata": {},
   "source": [
    "# Removing the duplicates"
   ]
  },
  {
   "cell_type": "code",
   "execution_count": 8,
   "id": "cf73182e",
   "metadata": {},
   "outputs": [
    {
     "data": {
      "text/plain": [
       "(100, 12)"
      ]
     },
     "execution_count": 8,
     "metadata": {},
     "output_type": "execute_result"
    }
   ],
   "source": [
    "a.drop_duplicates(inplace=True)\n",
    "a.shape"
   ]
  },
  {
   "cell_type": "code",
   "execution_count": 9,
   "id": "296f352d",
   "metadata": {
    "scrolled": true
   },
   "outputs": [
    {
     "name": "stdout",
     "output_type": "stream",
     "text": [
      "<class 'pandas.core.frame.DataFrame'>\n",
      "Int64Index: 100 entries, 0 to 99\n",
      "Data columns (total 12 columns):\n",
      " #   Column       Non-Null Count  Dtype  \n",
      "---  ------       --------------  -----  \n",
      " 0   Player       100 non-null    object \n",
      " 1   Mat          100 non-null    int64  \n",
      " 2   Inns         100 non-null    int64  \n",
      " 3   Runs         100 non-null    int64  \n",
      " 4   HS           100 non-null    object \n",
      " 5   Balls_Faced  100 non-null    object \n",
      " 6   SR           100 non-null    float64\n",
      " 7   100          100 non-null    int64  \n",
      " 8   50           100 non-null    int64  \n",
      " 9   4s           100 non-null    int64  \n",
      " 10  6s           100 non-null    int64  \n",
      " 11  Matches      100 non-null    int64  \n",
      "dtypes: float64(1), int64(8), object(3)\n",
      "memory usage: 10.2+ KB\n"
     ]
    }
   ],
   "source": [
    "a.info()"
   ]
  },
  {
   "cell_type": "markdown",
   "id": "1f7e9e0b",
   "metadata": {},
   "source": [
    "# Data-cleaning"
   ]
  },
  {
   "cell_type": "code",
   "execution_count": 10,
   "id": "41a672ea",
   "metadata": {
    "scrolled": true
   },
   "outputs": [
    {
     "data": {
      "text/plain": [
       "array([4112, 3914, 3744, 3305, 3669, 2969, 3215, 3380, 2906, 3404, 3133,\n",
       "       2815, 2562, 2620, 2241, 2186, 2358, 2353, 1877, 2120, 1755, 2106,\n",
       "       1866, 2222, 1764, 1948, 1696, 1882, 1495, 1636, 1568, 1431, 1612,\n",
       "       1572, 1462, 1333, 1346, 1329, 1067, 1449, 1392, 1324, 1313, 1173,\n",
       "       1226, 1156, 1139, 1109, 1212, 1118,  751,  867,  919, 1263, 1075,\n",
       "        964,  910,  988, 1007,  946,  805,  806,  853,  852,  690,  822,\n",
       "        768,  743,  836,  686,  750,  756,  755,  610,  807,  683,  705,\n",
       "        600,  702,  630,  532,  458,  552,  589,  668,  575,  531,  577,\n",
       "        544,  481,  424,  524,  407,  416,  423,  453], dtype=int64)"
      ]
     },
     "execution_count": 10,
     "metadata": {},
     "output_type": "execute_result"
    }
   ],
   "source": [
    "# removing * from 100* in HS column so that it can be used in calculations further.\n",
    "def handleHS(value):\n",
    "    value=str(value).split('*')\n",
    "    value=value[0]\n",
    "    return int(value)\n",
    "a['HS']=a['HS'].apply(handleHS)\n",
    "a['HS'].head()\n",
    "a['HS_ELIGIBLE']=a['HS']\n",
    "# removing , from Balls_Faced column\n",
    "def handleComma(value):\n",
    "    value=str(value)\n",
    "    if ',' in value:\n",
    "        value=value.replace(',','')\n",
    "        return int(value)\n",
    "    else:\n",
    "        return int(value)\n",
    "a['Balls_Faced']=a['Balls_Faced'].apply(handleComma)\n",
    "a['Balls_Faced'].unique()"
   ]
  },
  {
   "cell_type": "markdown",
   "id": "f3983468",
   "metadata": {},
   "source": [
    "# Data visualization"
   ]
  },
  {
   "cell_type": "code",
   "execution_count": 27,
   "id": "a2ba654e",
   "metadata": {
    "scrolled": true
   },
   "outputs": [
    {
     "data": {
      "image/png": "[encoded data removed]",
      "text/plain": [
       "<Figure size 640x480 with 1 Axes>"
      ]
     },
     "metadata": {},
     "output_type": "display_data"
    }
   ],
   "source": [
    "plt.scatter(a['Balls_Faced'],a['Runs'])\n",
    "plt.xticks(rotation=90)\n",
    "plt.show()"
   ]
  },
  {
   "cell_type": "code",
   "execution_count": 12,
   "id": "d3a9a821",
   "metadata": {},
   "outputs": [
    {
     "data": {
      "text/plain": [
       "<Axes: xlabel='SR', ylabel='Matches'>"
      ]
     },
     "execution_count": 12,
     "metadata": {},
     "output_type": "execute_result"
    },
    {
     "data": {
      "image/png": "[encoded data removed]",
      "text/plain": [
       "<Figure size 1600x1000 with 1 Axes>"
      ]
     },
     "metadata": {},
     "output_type": "display_data"
    }
   ],
   "source": [
    "def SR(value):\n",
    "    if value < 110:\n",
    "        value = 100\n",
    "    elif value > 110 and value < 120:\n",
    "        value = 110\n",
    "    elif value > 120 and value < 130:\n",
    "        value = 120\n",
    "    elif value > 130 and value < 140:\n",
    "        value = 130\n",
    "    elif value > 140 and value < 150:\n",
    "        value = 140\n",
    "    elif value > 150 and value < 160:\n",
    "        value = 150\n",
    "    elif value > 160 and value < 170:\n",
    "        value = 160\n",
    "    elif value > 170 and value < 180:\n",
    "        value = 170\n",
    "    elif value > 180:\n",
    "        value = 180\n",
    "    return int(value)\n",
    "\n",
    "a['SR'] = a['SR'].apply(SR)\n",
    "a['SR'].head()\n",
    "\n",
    "plt.figure(figsize=(16,10))\n",
    "sns.boxplot(x=a['SR'], y=a['Matches'], data=a)"
   ]
  },
  {
   "cell_type": "code",
   "execution_count": 13,
   "id": "b801608f",
   "metadata": {
    "scrolled": false
   },
   "outputs": [
    {
     "data": {
      "image/png": "[encoded data removed]",
      "text/plain": [
       "<Figure size 640x480 with 1 Axes>"
      ]
     },
     "metadata": {},
     "output_type": "display_data"
    }
   ],
   "source": [
    "sorted(a['Mat'].unique())\n",
    "sns.histplot(a['Mat'],bins=80)\n",
    "plt.show()"
   ]
  },
  {
   "cell_type": "markdown",
   "id": "d5024508",
   "metadata": {},
   "source": [
    "it is clear that we must set an initial eligibility criterion for players.\n",
    "After visualisations it is clear that we must take players who habve at laest played 80 matches and have higherst score above 80\n",
    "which shows that they are consistent in playing matches and have potential to score a century."
   ]
  },
  {
   "cell_type": "code",
   "execution_count": 14,
   "id": "88f0723b",
   "metadata": {},
   "outputs": [
    {
     "data": {
      "text/plain": [
       "(46, 13)"
      ]
     },
     "execution_count": 14,
     "metadata": {},
     "output_type": "execute_result"
    }
   ],
   "source": [
    "p = 0\n",
    "def drop_Matches(value):\n",
    "    global p\n",
    "    p = p + 1\n",
    "    if value < 80:\n",
    "        return False\n",
    "    return True\n",
    "\n",
    "a['Mat'] = a['Mat'].apply(drop_Matches)\n",
    "a = a[a['Mat']]\n",
    "a.reset_index(drop=True, inplace=True)\n",
    "a.shape"
   ]
  },
  {
   "cell_type": "code",
   "execution_count": 15,
   "id": "991b703a",
   "metadata": {},
   "outputs": [
    {
     "data": {
      "text/plain": [
       "(19, 13)"
      ]
     },
     "execution_count": 15,
     "metadata": {},
     "output_type": "execute_result"
    }
   ],
   "source": [
    "p = 0\n",
    "def drop_Matches(value):\n",
    "    global p\n",
    "    p = p + 1\n",
    "    if value < 100:\n",
    "        return False\n",
    "    return True\n",
    "\n",
    "a['HS_ELIGIBLE'] = a['HS_ELIGIBLE'].apply(drop_Matches)\n",
    "a = a[a['HS_ELIGIBLE']]\n",
    "a.reset_index(drop=True, inplace=True)\n",
    "a.shape"
   ]
  },
  {
   "cell_type": "code",
   "execution_count": 16,
   "id": "6bdb0c99",
   "metadata": {},
   "outputs": [
    {
     "data": {
      "text/html": [
       "<div>\n",
       "<style scoped>\n",
       "    .dataframe tbody tr th:only-of-type {\n",
       "        vertical-align: middle;\n",
       "    }\n",
       "\n",
       "    .dataframe tbody tr th {\n",
       "        vertical-align: top;\n",
       "    }\n",
       "\n",
       "    .dataframe thead th {\n",
       "        text-align: right;\n",
       "    }\n",
       "</style>\n",
       "<table border=\"1\" class=\"dataframe\">\n",
       "  <thead>\n",
       "    <tr style=\"text-align: right;\">\n",
       "      <th></th>\n",
       "      <th>Player</th>\n",
       "      <th>Inns</th>\n",
       "      <th>Runs</th>\n",
       "      <th>HS</th>\n",
       "      <th>Balls_Faced</th>\n",
       "      <th>SR</th>\n",
       "      <th>100</th>\n",
       "      <th>50</th>\n",
       "      <th>4s</th>\n",
       "      <th>6s</th>\n",
       "      <th>Matches</th>\n",
       "    </tr>\n",
       "  </thead>\n",
       "  <tbody>\n",
       "    <tr>\n",
       "      <th>0</th>\n",
       "      <td>ViratKohli</td>\n",
       "      <td>169</td>\n",
       "      <td>5412</td>\n",
       "      <td>113</td>\n",
       "      <td>4112</td>\n",
       "      <td>130</td>\n",
       "      <td>5</td>\n",
       "      <td>36</td>\n",
       "      <td>480</td>\n",
       "      <td>190</td>\n",
       "      <td>177</td>\n",
       "    </tr>\n",
       "    <tr>\n",
       "      <th>1</th>\n",
       "      <td>Suresh Raina</td>\n",
       "      <td>189</td>\n",
       "      <td>5368</td>\n",
       "      <td>100</td>\n",
       "      <td>3914</td>\n",
       "      <td>130</td>\n",
       "      <td>1</td>\n",
       "      <td>38</td>\n",
       "      <td>493</td>\n",
       "      <td>194</td>\n",
       "      <td>193</td>\n",
       "    </tr>\n",
       "    <tr>\n",
       "      <th>2</th>\n",
       "      <td>Rohit Sharma</td>\n",
       "      <td>183</td>\n",
       "      <td>4898</td>\n",
       "      <td>109</td>\n",
       "      <td>3744</td>\n",
       "      <td>130</td>\n",
       "      <td>1</td>\n",
       "      <td>36</td>\n",
       "      <td>431</td>\n",
       "      <td>194</td>\n",
       "      <td>188</td>\n",
       "    </tr>\n",
       "    <tr>\n",
       "      <th>3</th>\n",
       "      <td>David Warner</td>\n",
       "      <td>126</td>\n",
       "      <td>4706</td>\n",
       "      <td>126</td>\n",
       "      <td>3305</td>\n",
       "      <td>140</td>\n",
       "      <td>4</td>\n",
       "      <td>44</td>\n",
       "      <td>458</td>\n",
       "      <td>181</td>\n",
       "      <td>126</td>\n",
       "    </tr>\n",
       "    <tr>\n",
       "      <th>4</th>\n",
       "      <td>Chris Gayle</td>\n",
       "      <td>124</td>\n",
       "      <td>4484</td>\n",
       "      <td>175</td>\n",
       "      <td>2969</td>\n",
       "      <td>150</td>\n",
       "      <td>6</td>\n",
       "      <td>28</td>\n",
       "      <td>369</td>\n",
       "      <td>326</td>\n",
       "      <td>125</td>\n",
       "    </tr>\n",
       "    <tr>\n",
       "      <th>5</th>\n",
       "      <td>AB de Villiers</td>\n",
       "      <td>142</td>\n",
       "      <td>4395</td>\n",
       "      <td>133</td>\n",
       "      <td>2906</td>\n",
       "      <td>150</td>\n",
       "      <td>3</td>\n",
       "      <td>33</td>\n",
       "      <td>357</td>\n",
       "      <td>212</td>\n",
       "      <td>154</td>\n",
       "    </tr>\n",
       "    <tr>\n",
       "      <th>6</th>\n",
       "      <td>Ajinkya Rahane</td>\n",
       "      <td>132</td>\n",
       "      <td>3820</td>\n",
       "      <td>105</td>\n",
       "      <td>3133</td>\n",
       "      <td>120</td>\n",
       "      <td>2</td>\n",
       "      <td>27</td>\n",
       "      <td>404</td>\n",
       "      <td>74</td>\n",
       "      <td>140</td>\n",
       "    </tr>\n",
       "    <tr>\n",
       "      <th>7</th>\n",
       "      <td>Shane Watson</td>\n",
       "      <td>130</td>\n",
       "      <td>3575</td>\n",
       "      <td>117</td>\n",
       "      <td>2562</td>\n",
       "      <td>130</td>\n",
       "      <td>4</td>\n",
       "      <td>19</td>\n",
       "      <td>343</td>\n",
       "      <td>177</td>\n",
       "      <td>134</td>\n",
       "    </tr>\n",
       "    <tr>\n",
       "      <th>8</th>\n",
       "      <td>Ambati Rayudu</td>\n",
       "      <td>140</td>\n",
       "      <td>3300</td>\n",
       "      <td>100</td>\n",
       "      <td>2620</td>\n",
       "      <td>120</td>\n",
       "      <td>1</td>\n",
       "      <td>18</td>\n",
       "      <td>278</td>\n",
       "      <td>120</td>\n",
       "      <td>147</td>\n",
       "    </tr>\n",
       "    <tr>\n",
       "      <th>9</th>\n",
       "      <td>Yusuf Pathan</td>\n",
       "      <td>154</td>\n",
       "      <td>3204</td>\n",
       "      <td>100</td>\n",
       "      <td>2241</td>\n",
       "      <td>140</td>\n",
       "      <td>1</td>\n",
       "      <td>13</td>\n",
       "      <td>262</td>\n",
       "      <td>158</td>\n",
       "      <td>174</td>\n",
       "    </tr>\n",
       "    <tr>\n",
       "      <th>10</th>\n",
       "      <td>Brendon McCullum</td>\n",
       "      <td>109</td>\n",
       "      <td>2880</td>\n",
       "      <td>158</td>\n",
       "      <td>2186</td>\n",
       "      <td>130</td>\n",
       "      <td>2</td>\n",
       "      <td>13</td>\n",
       "      <td>293</td>\n",
       "      <td>130</td>\n",
       "      <td>109</td>\n",
       "    </tr>\n",
       "    <tr>\n",
       "      <th>11</th>\n",
       "      <td>Manish Pandey</td>\n",
       "      <td>120</td>\n",
       "      <td>2843</td>\n",
       "      <td>114</td>\n",
       "      <td>2353</td>\n",
       "      <td>120</td>\n",
       "      <td>1</td>\n",
       "      <td>15</td>\n",
       "      <td>253</td>\n",
       "      <td>75</td>\n",
       "      <td>130</td>\n",
       "    </tr>\n",
       "    <tr>\n",
       "      <th>12</th>\n",
       "      <td>Virender Sehwag</td>\n",
       "      <td>104</td>\n",
       "      <td>2728</td>\n",
       "      <td>122</td>\n",
       "      <td>1755</td>\n",
       "      <td>150</td>\n",
       "      <td>2</td>\n",
       "      <td>16</td>\n",
       "      <td>334</td>\n",
       "      <td>106</td>\n",
       "      <td>104</td>\n",
       "    </tr>\n",
       "    <tr>\n",
       "      <th>13</th>\n",
       "      <td>Murali Vijay</td>\n",
       "      <td>103</td>\n",
       "      <td>2587</td>\n",
       "      <td>127</td>\n",
       "      <td>2106</td>\n",
       "      <td>120</td>\n",
       "      <td>2</td>\n",
       "      <td>13</td>\n",
       "      <td>243</td>\n",
       "      <td>91</td>\n",
       "      <td>103</td>\n",
       "    </tr>\n",
       "    <tr>\n",
       "      <th>14</th>\n",
       "      <td>Sanju Samson</td>\n",
       "      <td>89</td>\n",
       "      <td>2209</td>\n",
       "      <td>102</td>\n",
       "      <td>1696</td>\n",
       "      <td>130</td>\n",
       "      <td>2</td>\n",
       "      <td>10</td>\n",
       "      <td>170</td>\n",
       "      <td>89</td>\n",
       "      <td>93</td>\n",
       "    </tr>\n",
       "    <tr>\n",
       "      <th>15</th>\n",
       "      <td>Adam Gilchrist</td>\n",
       "      <td>80</td>\n",
       "      <td>2069</td>\n",
       "      <td>109</td>\n",
       "      <td>1495</td>\n",
       "      <td>130</td>\n",
       "      <td>2</td>\n",
       "      <td>11</td>\n",
       "      <td>239</td>\n",
       "      <td>92</td>\n",
       "      <td>80</td>\n",
       "    </tr>\n",
       "    <tr>\n",
       "      <th>16</th>\n",
       "      <td>Steve Smith</td>\n",
       "      <td>72</td>\n",
       "      <td>2022</td>\n",
       "      <td>101</td>\n",
       "      <td>1568</td>\n",
       "      <td>120</td>\n",
       "      <td>1</td>\n",
       "      <td>8</td>\n",
       "      <td>180</td>\n",
       "      <td>49</td>\n",
       "      <td>81</td>\n",
       "    </tr>\n",
       "    <tr>\n",
       "      <th>17</th>\n",
       "      <td>Mahela Jayawardene</td>\n",
       "      <td>78</td>\n",
       "      <td>1802</td>\n",
       "      <td>110</td>\n",
       "      <td>1462</td>\n",
       "      <td>120</td>\n",
       "      <td>1</td>\n",
       "      <td>10</td>\n",
       "      <td>200</td>\n",
       "      <td>39</td>\n",
       "      <td>80</td>\n",
       "    </tr>\n",
       "    <tr>\n",
       "      <th>18</th>\n",
       "      <td>Wriddhiman Saha</td>\n",
       "      <td>95</td>\n",
       "      <td>1765</td>\n",
       "      <td>115</td>\n",
       "      <td>1346</td>\n",
       "      <td>130</td>\n",
       "      <td>1</td>\n",
       "      <td>6</td>\n",
       "      <td>160</td>\n",
       "      <td>59</td>\n",
       "      <td>120</td>\n",
       "    </tr>\n",
       "  </tbody>\n",
       "</table>\n",
       "</div>"
      ],
      "text/plain": [
       "                Player  Inns  Runs   HS  Balls_Faced   SR  100  50   4s   6s  \\\n",
       "0           ViratKohli   169  5412  113         4112  130    5  36  480  190   \n",
       "1         Suresh Raina   189  5368  100         3914  130    1  38  493  194   \n",
       "2         Rohit Sharma   183  4898  109         3744  130    1  36  431  194   \n",
       "3         David Warner   126  4706  126         3305  140    4  44  458  181   \n",
       "4          Chris Gayle   124  4484  175         2969  150    6  28  369  326   \n",
       "5       AB de Villiers   142  4395  133         2906  150    3  33  357  212   \n",
       "6       Ajinkya Rahane   132  3820  105         3133  120    2  27  404   74   \n",
       "7         Shane Watson   130  3575  117         2562  130    4  19  343  177   \n",
       "8        Ambati Rayudu   140  3300  100         2620  120    1  18  278  120   \n",
       "9         Yusuf Pathan   154  3204  100         2241  140    1  13  262  158   \n",
       "10    Brendon McCullum   109  2880  158         2186  130    2  13  293  130   \n",
       "11       Manish Pandey   120  2843  114         2353  120    1  15  253   75   \n",
       "12     Virender Sehwag   104  2728  122         1755  150    2  16  334  106   \n",
       "13        Murali Vijay   103  2587  127         2106  120    2  13  243   91   \n",
       "14        Sanju Samson    89  2209  102         1696  130    2  10  170   89   \n",
       "15      Adam Gilchrist    80  2069  109         1495  130    2  11  239   92   \n",
       "16         Steve Smith    72  2022  101         1568  120    1   8  180   49   \n",
       "17  Mahela Jayawardene    78  1802  110         1462  120    1  10  200   39   \n",
       "18     Wriddhiman Saha    95  1765  115         1346  130    1   6  160   59   \n",
       "\n",
       "    Matches  \n",
       "0       177  \n",
       "1       193  \n",
       "2       188  \n",
       "3       126  \n",
       "4       125  \n",
       "5       154  \n",
       "6       140  \n",
       "7       134  \n",
       "8       147  \n",
       "9       174  \n",
       "10      109  \n",
       "11      130  \n",
       "12      104  \n",
       "13      103  \n",
       "14       93  \n",
       "15       80  \n",
       "16       81  \n",
       "17       80  \n",
       "18      120  "
      ]
     },
     "execution_count": 16,
     "metadata": {},
     "output_type": "execute_result"
    }
   ],
   "source": [
    "a.rename(columns={'Mat':'Mat_eligible'},inplace=True)\n",
    "a=a.drop(['Mat_eligible','HS_ELIGIBLE'],axis=\"columns\")\n",
    "a"
   ]
  },
  {
   "cell_type": "markdown",
   "id": "73ffe9b6",
   "metadata": {},
   "source": [
    "# Grouping of strike rates"
   ]
  },
  {
   "cell_type": "code",
   "execution_count": 17,
   "id": "3335e54f",
   "metadata": {
    "scrolled": true
   },
   "outputs": [
    {
     "data": {
      "text/plain": [
       "130    8\n",
       "120    6\n",
       "150    3\n",
       "140    2\n",
       "Name: SR, dtype: int64"
      ]
     },
     "execution_count": 17,
     "metadata": {},
     "output_type": "execute_result"
    }
   ],
   "source": [
    "a['SR'].value_counts()"
   ]
  },
  {
   "cell_type": "code",
   "execution_count": 18,
   "id": "29f405b1",
   "metadata": {},
   "outputs": [
    {
     "data": {
      "text/plain": [
       "0    130\n",
       "1    130\n",
       "2    130\n",
       "3    140\n",
       "4    150\n",
       "Name: SR, dtype: int64"
      ]
     },
     "execution_count": 18,
     "metadata": {},
     "output_type": "execute_result"
    }
   ],
   "source": [
    "def SR(value):\n",
    "    if value < 110:\n",
    "        value = 100\n",
    "    elif value > 110 and value < 120:\n",
    "        value = 110\n",
    "    elif value > 120 and value < 130:\n",
    "        value = 120\n",
    "    elif value > 130 and value < 140:\n",
    "        value = 130\n",
    "    elif value > 140 and value < 150:\n",
    "        value = 140\n",
    "    elif value > 150 and value < 160:\n",
    "        value = 150\n",
    "    elif value > 160 :\n",
    "        value = 160\n",
    "  \n",
    "    return int(value)\n",
    "\n",
    "a['SR'] = a['SR'].apply(SR)\n",
    "a['SR'].head()\n"
   ]
  },
  {
   "cell_type": "code",
   "execution_count": 19,
   "id": "a8da3c84",
   "metadata": {
    "scrolled": true
   },
   "outputs": [
    {
     "data": {
      "image/png": "[encoded data removed]",
      "text/plain": [
       "<Figure size 1600x900 with 1 Axes>"
      ]
     },
     "metadata": {},
     "output_type": "display_data"
    }
   ],
   "source": [
    "plt.figure(figsize=(16,9))\n",
    "sns.boxplot(x=a['SR'], y=a['HS'], data=a)\n",
    "plt.show()"
   ]
  },
  {
   "cell_type": "markdown",
   "id": "f74249c5",
   "metadata": {},
   "source": [
    "## A strike rate of 140 is favorable because they have played more matches.Hence if the players are playing more matches and their strike rate is fair(i.e 140 )hence they are better than the one playing less matches and having strike rate above and below 140,150 as they are consistent."
   ]
  },
  {
   "cell_type": "code",
   "execution_count": 20,
   "id": "b02f1e30",
   "metadata": {
    "scrolled": true
   },
   "outputs": [
    {
     "name": "stdout",
     "output_type": "stream",
     "text": [
      "3    David Warner\n",
      "9    Yusuf Pathan\n",
      "Name: Player, dtype: object 4         Chris Gayle\n",
      "5      AB de Villiers\n",
      "12    Virender Sehwag\n",
      "Name: Player, dtype: object\n"
     ]
    }
   ],
   "source": [
    "b = a[a['SR'] == 140]['Player']\n",
    "c = a[a['SR'] == 150]['Player']\n",
    "print(b,c)"
   ]
  },
  {
   "cell_type": "markdown",
   "id": "5e859400",
   "metadata": {},
   "source": [
    "# BEST 5 Batsmens through EDA\n",
    "## 1    David Warner\n",
    "## 2    Yusuf Pathan\n",
    "## 3    Chris Gayle\n",
    "## 4    AB de Villiers\n",
    "## 5    Virender Sehwag"
   ]
  },
  {
   "cell_type": "code",
   "execution_count": 21,
   "id": "ec44160d",
   "metadata": {},
   "outputs": [
    {
     "data": {
      "text/html": [
       "<div>\n",
       "<style scoped>\n",
       "    .dataframe tbody tr th:only-of-type {\n",
       "        vertical-align: middle;\n",
       "    }\n",
       "\n",
       "    .dataframe tbody tr th {\n",
       "        vertical-align: top;\n",
       "    }\n",
       "\n",
       "    .dataframe thead th {\n",
       "        text-align: right;\n",
       "    }\n",
       "</style>\n",
       "<table border=\"1\" class=\"dataframe\">\n",
       "  <thead>\n",
       "    <tr style=\"text-align: right;\">\n",
       "      <th></th>\n",
       "      <th>Mat</th>\n",
       "      <th>Inns</th>\n",
       "      <th>NO</th>\n",
       "      <th>Runs</th>\n",
       "      <th>HS</th>\n",
       "      <th>Avg</th>\n",
       "      <th>Balls_Faced</th>\n",
       "      <th>SR</th>\n",
       "      <th>100</th>\n",
       "      <th>50</th>\n",
       "      <th>4s</th>\n",
       "      <th>6s</th>\n",
       "    </tr>\n",
       "  </thead>\n",
       "  <tbody>\n",
       "    <tr>\n",
       "      <th>0</th>\n",
       "      <td>177</td>\n",
       "      <td>169</td>\n",
       "      <td>26</td>\n",
       "      <td>5412</td>\n",
       "      <td>113</td>\n",
       "      <td>37.84</td>\n",
       "      <td>4112</td>\n",
       "      <td>131.61</td>\n",
       "      <td>5</td>\n",
       "      <td>36</td>\n",
       "      <td>480</td>\n",
       "      <td>190</td>\n",
       "    </tr>\n",
       "    <tr>\n",
       "      <th>1</th>\n",
       "      <td>193</td>\n",
       "      <td>189</td>\n",
       "      <td>28</td>\n",
       "      <td>5368</td>\n",
       "      <td>100</td>\n",
       "      <td>33.34</td>\n",
       "      <td>3914</td>\n",
       "      <td>137.14</td>\n",
       "      <td>1</td>\n",
       "      <td>38</td>\n",
       "      <td>493</td>\n",
       "      <td>194</td>\n",
       "    </tr>\n",
       "    <tr>\n",
       "      <th>2</th>\n",
       "      <td>188</td>\n",
       "      <td>183</td>\n",
       "      <td>28</td>\n",
       "      <td>4898</td>\n",
       "      <td>109</td>\n",
       "      <td>31.60</td>\n",
       "      <td>3744</td>\n",
       "      <td>130.82</td>\n",
       "      <td>1</td>\n",
       "      <td>36</td>\n",
       "      <td>431</td>\n",
       "      <td>194</td>\n",
       "    </tr>\n",
       "    <tr>\n",
       "      <th>3</th>\n",
       "      <td>126</td>\n",
       "      <td>126</td>\n",
       "      <td>17</td>\n",
       "      <td>4706</td>\n",
       "      <td>126</td>\n",
       "      <td>43.17</td>\n",
       "      <td>3305</td>\n",
       "      <td>142.39</td>\n",
       "      <td>4</td>\n",
       "      <td>44</td>\n",
       "      <td>458</td>\n",
       "      <td>181</td>\n",
       "    </tr>\n",
       "    <tr>\n",
       "      <th>4</th>\n",
       "      <td>159</td>\n",
       "      <td>158</td>\n",
       "      <td>21</td>\n",
       "      <td>4579</td>\n",
       "      <td>97</td>\n",
       "      <td>33.42</td>\n",
       "      <td>3669</td>\n",
       "      <td>124.80</td>\n",
       "      <td>0</td>\n",
       "      <td>37</td>\n",
       "      <td>524</td>\n",
       "      <td>96</td>\n",
       "    </tr>\n",
       "    <tr>\n",
       "      <th>...</th>\n",
       "      <td>...</td>\n",
       "      <td>...</td>\n",
       "      <td>...</td>\n",
       "      <td>...</td>\n",
       "      <td>...</td>\n",
       "      <td>...</td>\n",
       "      <td>...</td>\n",
       "      <td>...</td>\n",
       "      <td>...</td>\n",
       "      <td>...</td>\n",
       "      <td>...</td>\n",
       "      <td>...</td>\n",
       "    </tr>\n",
       "    <tr>\n",
       "      <th>95</th>\n",
       "      <td>157</td>\n",
       "      <td>81</td>\n",
       "      <td>32</td>\n",
       "      <td>584</td>\n",
       "      <td>24</td>\n",
       "      <td>11.91</td>\n",
       "      <td>524</td>\n",
       "      <td>111.45</td>\n",
       "      <td>0</td>\n",
       "      <td>0</td>\n",
       "      <td>54</td>\n",
       "      <td>18</td>\n",
       "    </tr>\n",
       "    <tr>\n",
       "      <th>96</th>\n",
       "      <td>16</td>\n",
       "      <td>16</td>\n",
       "      <td>3</td>\n",
       "      <td>577</td>\n",
       "      <td>104</td>\n",
       "      <td>44.38</td>\n",
       "      <td>407</td>\n",
       "      <td>141.76</td>\n",
       "      <td>2</td>\n",
       "      <td>3</td>\n",
       "      <td>60</td>\n",
       "      <td>21</td>\n",
       "    </tr>\n",
       "    <tr>\n",
       "      <th>97</th>\n",
       "      <td>33</td>\n",
       "      <td>29</td>\n",
       "      <td>11</td>\n",
       "      <td>557</td>\n",
       "      <td>63</td>\n",
       "      <td>30.94</td>\n",
       "      <td>416</td>\n",
       "      <td>133.89</td>\n",
       "      <td>0</td>\n",
       "      <td>2</td>\n",
       "      <td>34</td>\n",
       "      <td>24</td>\n",
       "    </tr>\n",
       "    <tr>\n",
       "      <th>98</th>\n",
       "      <td>30</td>\n",
       "      <td>29</td>\n",
       "      <td>7</td>\n",
       "      <td>538</td>\n",
       "      <td>95</td>\n",
       "      <td>24.45</td>\n",
       "      <td>423</td>\n",
       "      <td>127.18</td>\n",
       "      <td>0</td>\n",
       "      <td>3</td>\n",
       "      <td>40</td>\n",
       "      <td>31</td>\n",
       "    </tr>\n",
       "    <tr>\n",
       "      <th>99</th>\n",
       "      <td>24</td>\n",
       "      <td>22</td>\n",
       "      <td>4</td>\n",
       "      <td>531</td>\n",
       "      <td>84</td>\n",
       "      <td>29.50</td>\n",
       "      <td>453</td>\n",
       "      <td>117.21</td>\n",
       "      <td>0</td>\n",
       "      <td>3</td>\n",
       "      <td>39</td>\n",
       "      <td>16</td>\n",
       "    </tr>\n",
       "  </tbody>\n",
       "</table>\n",
       "<p>100 rows × 12 columns</p>\n",
       "</div>"
      ],
      "text/plain": [
       "    Mat  Inns  NO  Runs   HS    Avg  Balls_Faced      SR  100  50   4s   6s\n",
       "0   177   169  26  5412  113  37.84         4112  131.61    5  36  480  190\n",
       "1   193   189  28  5368  100  33.34         3914  137.14    1  38  493  194\n",
       "2   188   183  28  4898  109  31.60         3744  130.82    1  36  431  194\n",
       "3   126   126  17  4706  126  43.17         3305  142.39    4  44  458  181\n",
       "4   159   158  21  4579   97  33.42         3669  124.80    0  37  524   96\n",
       "..  ...   ...  ..   ...  ...    ...          ...     ...  ...  ..  ...  ...\n",
       "95  157    81  32   584   24  11.91          524  111.45    0   0   54   18\n",
       "96   16    16   3   577  104  44.38          407  141.76    2   3   60   21\n",
       "97   33    29  11   557   63  30.94          416  133.89    0   2   34   24\n",
       "98   30    29   7   538   95  24.45          423  127.18    0   3   40   31\n",
       "99   24    22   4   531   84  29.50          453  117.21    0   3   39   16\n",
       "\n",
       "[100 rows x 12 columns]"
      ]
     },
     "execution_count": 21,
     "metadata": {},
     "output_type": "execute_result"
    }
   ],
   "source": [
    "#Initial cleaning of dataset\n",
    "a=pd.read_csv(\"Top_100_batsman.csv\")\n",
    "a.head()\n",
    "a=a.drop(['POS'],axis=\"columns\")\n",
    "a['Matches']=a['Mat']\n",
    "a.rename(columns={'BF':'Balls_Faced','PLAYER':'Player'},inplace=True)\n",
    "# removing * from 100* in HS column so that it can be used in calculations further.\n",
    "def handleHS(value):\n",
    "    value=str(value).split('*')\n",
    "    value=value[0]\n",
    "    return int(value)\n",
    "a['HS']=a['HS'].apply(handleHS)\n",
    "a['HS'].head()\n",
    "a['HS_ELIGIBLE']=a['HS']\n",
    "# removing , from Balls_Faced column\n",
    "def handleComma(value):\n",
    "    value=str(value)\n",
    "    if ',' in value:\n",
    "        value=value.replace(',','')\n",
    "        return int(value)\n",
    "    else:\n",
    "        return int(value)\n",
    "a['Balls_Faced']=a['Balls_Faced'].apply(handleComma)\n",
    "a['Balls_Faced'].unique()\n",
    "a.drop(['HS_ELIGIBLE','Matches','Player'],inplace=True,axis='columns')\n",
    "a"
   ]
  },
  {
   "cell_type": "markdown",
   "id": "1e26da95",
   "metadata": {},
   "source": [
    "# Training of model and predicting the accuracy of model"
   ]
  },
  {
   "cell_type": "code",
   "execution_count": 22,
   "id": "95cda28d",
   "metadata": {},
   "outputs": [
    {
     "data": {
      "text/plain": [
       "0.9985863437825522"
      ]
     },
     "execution_count": 22,
     "metadata": {},
     "output_type": "execute_result"
    }
   ],
   "source": [
    "\n",
    "X=a.drop(['Runs'],axis='columns')\n",
    "y=a['Runs']\n",
    "from sklearn.linear_model import LinearRegression\n",
    "from sklearn.model_selection import train_test_split\n",
    "from sklearn.metrics import accuracy_score\n",
    "from sklearn.model_selection import cross_val_score\n",
    "X_train,X_test,y_train,y_test=train_test_split(X,y,test_size=0.3,random_state=1)\n",
    "reg=LinearRegression()\n",
    "reg.fit(X_train,y_train)\n",
    "reg.score(X_test,y_test)"
   ]
  },
  {
   "cell_type": "markdown",
   "id": "adda0974",
   "metadata": {},
   "source": [
    "# By this model we can predict the runs scored by the batsman to a good extent \n",
    "# Click here to go to the website https://shreyans2004.github.io/Runs/"
   ]
  }
 ],
 "metadata": {
  "kernelspec": {
   "display_name": "Python 3 (ipykernel)",
   "language": "python",
   "name": "python3"
  },
  "language_info": {
   "codemirror_mode": {
    "name": "ipython",
    "version": 3
   },
   "file_extension": ".py",
   "mimetype": "text/x-python",
   "name": "python",
   "nbconvert_exporter": "python",
   "pygments_lexer": "ipython3",
   "version": "3.10.9"
  }
 },
 "nbformat": 4,
 "nbformat_minor": 5
}
